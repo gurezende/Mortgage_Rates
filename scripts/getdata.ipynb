{
 "cells": [
  {
   "cell_type": "markdown",
   "metadata": {},
   "source": [
    "# Mortgage 30-years Rate\n",
    "The Mortgage 30-years rate was retrieved from the FRED website (https://fred.stlouisfed.org/series/MORTGAGE30US)."
   ]
  },
  {
   "cell_type": "code",
   "execution_count": 65,
   "metadata": {},
   "outputs": [],
   "source": [
    "import pandas as pd\n",
    "from pandas.tseries.offsets import MonthEnd\n",
    "import numpy as np"
   ]
  },
  {
   "cell_type": "code",
   "execution_count": 4,
   "metadata": {},
   "outputs": [],
   "source": [
    "# URL to read and get data from\n",
    "df = pd.read_csv('../.data/MORTGAGE30US.csv')\n",
    "df.rename(columns={'observation_date': 'dt', 'MORTGAGE30US':'mtgage30us'}, inplace=True)\n",
    "\n",
    "# Make columns 'dt' as datetime\n",
    "df['dt'] = pd.to_datetime(df['dt'])\n",
    "\n",
    "# Set data to index\n",
    "df.set_index('dt', inplace=True)"
   ]
  },
  {
   "cell_type": "code",
   "execution_count": 5,
   "metadata": {},
   "outputs": [
    {
     "data": {
      "text/html": [
       "<div>\n",
       "<style scoped>\n",
       "    .dataframe tbody tr th:only-of-type {\n",
       "        vertical-align: middle;\n",
       "    }\n",
       "\n",
       "    .dataframe tbody tr th {\n",
       "        vertical-align: top;\n",
       "    }\n",
       "\n",
       "    .dataframe thead th {\n",
       "        text-align: right;\n",
       "    }\n",
       "</style>\n",
       "<table border=\"1\" class=\"dataframe\">\n",
       "  <thead>\n",
       "    <tr style=\"text-align: right;\">\n",
       "      <th></th>\n",
       "      <th>dt</th>\n",
       "      <th>mtgage30us</th>\n",
       "    </tr>\n",
       "  </thead>\n",
       "  <tbody>\n",
       "    <tr>\n",
       "      <th>0</th>\n",
       "      <td>1971-04-30</td>\n",
       "      <td>7.29</td>\n",
       "    </tr>\n",
       "    <tr>\n",
       "      <th>1</th>\n",
       "      <td>1971-05-31</td>\n",
       "      <td>7.46</td>\n",
       "    </tr>\n",
       "    <tr>\n",
       "      <th>2</th>\n",
       "      <td>1971-06-30</td>\n",
       "      <td>7.54</td>\n",
       "    </tr>\n",
       "    <tr>\n",
       "      <th>3</th>\n",
       "      <td>1971-07-31</td>\n",
       "      <td>7.69</td>\n",
       "    </tr>\n",
       "    <tr>\n",
       "      <th>4</th>\n",
       "      <td>1971-08-31</td>\n",
       "      <td>7.69</td>\n",
       "    </tr>\n",
       "    <tr>\n",
       "      <th>...</th>\n",
       "      <td>...</td>\n",
       "      <td>...</td>\n",
       "    </tr>\n",
       "    <tr>\n",
       "      <th>641</th>\n",
       "      <td>2024-09-30</td>\n",
       "      <td>6.08</td>\n",
       "    </tr>\n",
       "    <tr>\n",
       "      <th>642</th>\n",
       "      <td>2024-10-31</td>\n",
       "      <td>6.72</td>\n",
       "    </tr>\n",
       "    <tr>\n",
       "      <th>643</th>\n",
       "      <td>2024-11-30</td>\n",
       "      <td>6.81</td>\n",
       "    </tr>\n",
       "    <tr>\n",
       "      <th>644</th>\n",
       "      <td>2024-12-31</td>\n",
       "      <td>6.85</td>\n",
       "    </tr>\n",
       "    <tr>\n",
       "      <th>645</th>\n",
       "      <td>2025-01-31</td>\n",
       "      <td>7.04</td>\n",
       "    </tr>\n",
       "  </tbody>\n",
       "</table>\n",
       "<p>646 rows × 2 columns</p>\n",
       "</div>"
      ],
      "text/plain": [
       "            dt  mtgage30us\n",
       "0   1971-04-30        7.29\n",
       "1   1971-05-31        7.46\n",
       "2   1971-06-30        7.54\n",
       "3   1971-07-31        7.69\n",
       "4   1971-08-31        7.69\n",
       "..         ...         ...\n",
       "641 2024-09-30        6.08\n",
       "642 2024-10-31        6.72\n",
       "643 2024-11-30        6.81\n",
       "644 2024-12-31        6.85\n",
       "645 2025-01-31        7.04\n",
       "\n",
       "[646 rows x 2 columns]"
      ]
     },
     "execution_count": 5,
     "metadata": {},
     "output_type": "execute_result"
    }
   ],
   "source": [
    "# Resample data from weekly to monthly\n",
    "ts = df.resample(rule='ME').last().reset_index()\n",
    "\n",
    "ts"
   ]
  },
  {
   "cell_type": "code",
   "execution_count": 6,
   "metadata": {},
   "outputs": [],
   "source": [
    "# Save to data folder\n",
    "ts.to_csv('../.data/mortgage_rates.csv', index=False)"
   ]
  },
  {
   "cell_type": "markdown",
   "metadata": {},
   "source": [
    "## Get Inflation Data\n",
    "The data can be retrieved from the website: https://www.usinflationcalculator.com/inflation/historical-inflation-rates/"
   ]
  },
  {
   "cell_type": "code",
   "execution_count": 3,
   "metadata": {},
   "outputs": [],
   "source": [
    "# Scrape data from URL\n",
    "url = 'https://www.usinflationcalculator.com/inflation/historical-inflation-rates/'\n",
    "dfi = pd.read_html(url)[0]"
   ]
  },
  {
   "cell_type": "code",
   "execution_count": 4,
   "metadata": {},
   "outputs": [],
   "source": [
    "dd = dfi.copy()"
   ]
  },
  {
   "cell_type": "code",
   "execution_count": 41,
   "metadata": {},
   "outputs": [
    {
     "data": {
      "text/html": [
       "<div>\n",
       "<style scoped>\n",
       "    .dataframe tbody tr th:only-of-type {\n",
       "        vertical-align: middle;\n",
       "    }\n",
       "\n",
       "    .dataframe tbody tr th {\n",
       "        vertical-align: top;\n",
       "    }\n",
       "\n",
       "    .dataframe thead th {\n",
       "        text-align: right;\n",
       "    }\n",
       "</style>\n",
       "<table border=\"1\" class=\"dataframe\">\n",
       "  <thead>\n",
       "    <tr style=\"text-align: right;\">\n",
       "      <th></th>\n",
       "      <th>yr</th>\n",
       "      <th>1</th>\n",
       "      <th>2</th>\n",
       "      <th>3</th>\n",
       "      <th>4</th>\n",
       "      <th>5</th>\n",
       "      <th>6</th>\n",
       "      <th>7</th>\n",
       "      <th>8</th>\n",
       "      <th>9</th>\n",
       "      <th>10</th>\n",
       "      <th>11</th>\n",
       "      <th>12</th>\n",
       "    </tr>\n",
       "  </thead>\n",
       "  <tbody>\n",
       "    <tr>\n",
       "      <th>57</th>\n",
       "      <td>1971</td>\n",
       "      <td>5.3</td>\n",
       "      <td>5.0</td>\n",
       "      <td>4.7</td>\n",
       "      <td>4.2</td>\n",
       "      <td>4.4</td>\n",
       "      <td>4.6</td>\n",
       "      <td>4.4</td>\n",
       "      <td>4.6</td>\n",
       "      <td>4.1</td>\n",
       "      <td>3.8</td>\n",
       "      <td>3.3</td>\n",
       "      <td>3.3</td>\n",
       "    </tr>\n",
       "    <tr>\n",
       "      <th>58</th>\n",
       "      <td>1972</td>\n",
       "      <td>3.3</td>\n",
       "      <td>3.5</td>\n",
       "      <td>3.5</td>\n",
       "      <td>3.5</td>\n",
       "      <td>3.2</td>\n",
       "      <td>2.7</td>\n",
       "      <td>2.9</td>\n",
       "      <td>2.9</td>\n",
       "      <td>3.2</td>\n",
       "      <td>3.4</td>\n",
       "      <td>3.7</td>\n",
       "      <td>3.4</td>\n",
       "    </tr>\n",
       "  </tbody>\n",
       "</table>\n",
       "</div>"
      ],
      "text/plain": [
       "      yr    1    2    3    4    5    6    7    8    9   10   11   12\n",
       "57  1971  5.3  5.0  4.7  4.2  4.4  4.6  4.4  4.6  4.1  3.8  3.3  3.3\n",
       "58  1972  3.3  3.5  3.5  3.5  3.2  2.7  2.9  2.9  3.2  3.4  3.7  3.4"
      ]
     },
     "execution_count": 41,
     "metadata": {},
     "output_type": "execute_result"
    }
   ],
   "source": [
    "dfi = dd.copy()\n",
    "\n",
    "# Slice for years after 1970\n",
    "dfi = dfi.query(\"Year > 1970\")\n",
    "\n",
    "# Adjust columns names from month name to numbers\n",
    "dfi.rename(columns={'Year':'yr',\n",
    "                    'Jan':1, 'Feb':2, 'Mar':3,'Apr':4,'May':5,'Jun':6,\n",
    "                    'Jul':7,'Aug':8,'Sep':9,'Oct':10,'Nov':11,'Dec':12 }, \n",
    "                    inplace=True)\n",
    "\n",
    "dfi.head(2)\n"
   ]
  },
  {
   "cell_type": "code",
   "execution_count": null,
   "metadata": {},
   "outputs": [],
   "source": [
    "# Drop last row, because it is all NAs (2025 data)\n",
    "dfi.drop(111, axis=0, inplace=True)\n",
    "\n",
    "# Drop average column\n",
    "dfi.drop('Ave', axis=1, inplace=True)\n",
    "\n",
    "# Slice for years after 1970\n",
    "dfi = dfi.query(\"Year > 1970\")\n",
    "\n",
    "# Adjust columns names from month name to numbers\n",
    "dfi.rename(columns={'Year':'yr',\n",
    "                    'Jan':1, 'Feb':2, 'Mar':3,'Apr':4,'May':5,'Jun':6,\n",
    "                    'Jul':7,'Aug':8,'Sep':9,'Oct':10,'Nov':11,'Dec':12 }, \n",
    "                    inplace=True)"
   ]
  },
  {
   "cell_type": "code",
   "execution_count": 42,
   "metadata": {},
   "outputs": [
    {
     "data": {
      "text/html": [
       "<div>\n",
       "<style scoped>\n",
       "    .dataframe tbody tr th:only-of-type {\n",
       "        vertical-align: middle;\n",
       "    }\n",
       "\n",
       "    .dataframe tbody tr th {\n",
       "        vertical-align: top;\n",
       "    }\n",
       "\n",
       "    .dataframe thead th {\n",
       "        text-align: right;\n",
       "    }\n",
       "</style>\n",
       "<table border=\"1\" class=\"dataframe\">\n",
       "  <thead>\n",
       "    <tr style=\"text-align: right;\">\n",
       "      <th></th>\n",
       "      <th>yr</th>\n",
       "      <th>mth</th>\n",
       "      <th>inflation</th>\n",
       "    </tr>\n",
       "  </thead>\n",
       "  <tbody>\n",
       "    <tr>\n",
       "      <th>0</th>\n",
       "      <td>1971</td>\n",
       "      <td>1</td>\n",
       "      <td>5.3</td>\n",
       "    </tr>\n",
       "    <tr>\n",
       "      <th>54</th>\n",
       "      <td>1971</td>\n",
       "      <td>2</td>\n",
       "      <td>5.0</td>\n",
       "    </tr>\n",
       "    <tr>\n",
       "      <th>108</th>\n",
       "      <td>1971</td>\n",
       "      <td>3</td>\n",
       "      <td>4.7</td>\n",
       "    </tr>\n",
       "  </tbody>\n",
       "</table>\n",
       "</div>"
      ],
      "text/plain": [
       "       yr mth inflation\n",
       "0    1971   1       5.3\n",
       "54   1971   2       5.0\n",
       "108  1971   3       4.7"
      ]
     },
     "execution_count": 42,
     "metadata": {},
     "output_type": "execute_result"
    }
   ],
   "source": [
    "# Transform to long version\n",
    "dfi = (dfi\n",
    "       .melt(id_vars=['yr'],\n",
    "            var_name='mth',\n",
    "            value_vars=dfi.drop('yr', axis=1),\n",
    "            value_name='inflation')\n",
    "        .sort_values(by=['yr','mth'])\n",
    "    )\n",
    "\n",
    "# View final result\n",
    "dfi.head(3)"
   ]
  },
  {
   "cell_type": "code",
   "execution_count": 68,
   "metadata": {},
   "outputs": [
    {
     "name": "stdout",
     "output_type": "stream",
     "text": [
      "yr                   object\n",
      "mth                  object\n",
      "inflation           float64\n",
      "dt           datetime64[ns]\n",
      "dtype: object\n"
     ]
    }
   ],
   "source": [
    "# Adjust data types\n",
    "dfi['yr'] = dfi['yr'].astype(str)\n",
    "dfi['mth'] = dfi['mth'].astype(str)\n",
    "dfi['inflation'] = dfi['inflation'].astype(float)\n",
    "\n",
    "# Create date column\n",
    "dfi['dt'] = pd.to_datetime(dfi['yr'] + '-' + dfi['mth']) + MonthEnd(1)"
   ]
  },
  {
   "cell_type": "code",
   "execution_count": 71,
   "metadata": {},
   "outputs": [
    {
     "name": "stdout",
     "output_type": "stream",
     "text": [
      "dt           datetime64[ns]\n",
      "inflation           float64\n",
      "dtype: object\n"
     ]
    }
   ],
   "source": [
    "dfi = dfi.reindex(columns=['dt', 'inflation'])\n",
    "print(dfi.dtypes)"
   ]
  },
  {
   "cell_type": "code",
   "execution_count": 72,
   "metadata": {},
   "outputs": [],
   "source": [
    "# Save to data folder\n",
    "dfi.to_csv('../.data/inflation_rates.csv', index=False)"
   ]
  },
  {
   "cell_type": "code",
   "execution_count": null,
   "metadata": {},
   "outputs": [],
   "source": []
  }
 ],
 "metadata": {
  "kernelspec": {
   "display_name": ".venv",
   "language": "python",
   "name": "python3"
  },
  "language_info": {
   "codemirror_mode": {
    "name": "ipython",
    "version": 3
   },
   "file_extension": ".py",
   "mimetype": "text/x-python",
   "name": "python",
   "nbconvert_exporter": "python",
   "pygments_lexer": "ipython3",
   "version": "3.12.1"
  }
 },
 "nbformat": 4,
 "nbformat_minor": 2
}
